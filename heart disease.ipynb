{
 "cells": [
  {
   "cell_type": "markdown",
   "id": "92441d69",
   "metadata": {},
   "source": [
    "# overview"
   ]
  },
  {
   "cell_type": "markdown",
   "id": "8e47eae5",
   "metadata": {},
   "source": [
    "This data set dates from 1988 and consists of four databases: Cleveland, Hungary, Switzerland, and Long Beach V. It contains 76 attributes, including the predicted attribute, but all published experiments refer to using a subset of 14 of them. The \"target\" field refers to the presence of heart disease in the patient. It is integer valued 0 = no disease and 1 = disease."
   ]
  },
  {
   "cell_type": "markdown",
   "id": "9aed3c83",
   "metadata": {},
   "source": [
    "age: age in years<br>\n",
    "sex: sex<br>\n",
    "1 = male<br>\n",
    "0 = female<br>\n",
    "cp: chest pain type<br>\n",
    "Value 0: typical angina<br>\n",
    "Value 1: atypical angina<br>\n",
    "Value 2: non-anginal pain<br>\n",
    "Value 3: asymptomatic<br>\n",
    "trestbps: resting blood pressure (in mm Hg on admission to the hospital)<br>\n",
    "chol: serum cholestoral in mg/dl<br>\n",
    "fbs: (fasting blood sugar > 120 mg/dl)<br>\n",
    "1 = true;<br>\n",
    "0 = false<br>\n",
    "restecg: resting electrocardiographic results<br>\n",
    "Value 0: normal<br>\n",
    "Value 1: having ST-T wave abnormality (T wave inversions and/or ST elevation or depression of > 0.05 mV)<br>\n",
    "Value 2: showing probable or definite left ventricular hypertrophy by Estes' criteria<br>\n",
    "thalach: maximum heart rate achieved<br>\n",
    "exang: exercise induced angina<br>\n",
    "1 = yes<br>\n",
    "0 = no<br>\n",
    "oldpeak = ST depression induced by exercise relative to rest<br>\n",
    "slope: the slope of the peak exercise ST segment<br>\n",
    "Value 0: upsloping<br>\n",
    "Value 1: flat<br>\n",
    "Value 2: downsloping<br>\n",
    "ca: number of major vessels (0-3) colored by flourosopy<br>\n",
    "thal:<br>\n",
    "0 = error (in the original dataset 0 maps to NaN's)<br>\n",
    "1 = fixed defect<br>\n",
    "2 = normal<br>\n",
    "3 = reversable defect<br>\n",
    "target <br>\n",
    "0 = no disease,<br>\n",
    "1 = disease<br>"
   ]
  },
  {
   "cell_type": "code",
   "execution_count": 25,
   "id": "974546bc",
   "metadata": {},
   "outputs": [],
   "source": [
    "import pandas as pd\n",
    "import numpy as np\n",
    "import matplotlib.pyplot as plt\n",
    "import seaborn as sns\n",
    "%matplotlib inline\n",
    "sns.set()\n"
   ]
  },
  {
   "cell_type": "code",
   "execution_count": 26,
   "id": "e740778f",
   "metadata": {},
   "outputs": [],
   "source": [
    "df=pd.read_csv(\"heart.csv\")"
   ]
  },
  {
   "cell_type": "code",
   "execution_count": 27,
   "id": "d23b11cd",
   "metadata": {},
   "outputs": [
    {
     "data": {
      "text/html": [
       "<div>\n",
       "<style scoped>\n",
       "    .dataframe tbody tr th:only-of-type {\n",
       "        vertical-align: middle;\n",
       "    }\n",
       "\n",
       "    .dataframe tbody tr th {\n",
       "        vertical-align: top;\n",
       "    }\n",
       "\n",
       "    .dataframe thead th {\n",
       "        text-align: right;\n",
       "    }\n",
       "</style>\n",
       "<table border=\"1\" class=\"dataframe\">\n",
       "  <thead>\n",
       "    <tr style=\"text-align: right;\">\n",
       "      <th></th>\n",
       "      <th>age</th>\n",
       "      <th>sex</th>\n",
       "      <th>cp</th>\n",
       "      <th>trestbps</th>\n",
       "      <th>chol</th>\n",
       "      <th>fbs</th>\n",
       "      <th>restecg</th>\n",
       "      <th>thalach</th>\n",
       "      <th>exang</th>\n",
       "      <th>oldpeak</th>\n",
       "      <th>slope</th>\n",
       "      <th>ca</th>\n",
       "      <th>thal</th>\n",
       "      <th>target</th>\n",
       "    </tr>\n",
       "  </thead>\n",
       "  <tbody>\n",
       "    <tr>\n",
       "      <th>894</th>\n",
       "      <td>51</td>\n",
       "      <td>1</td>\n",
       "      <td>0</td>\n",
       "      <td>140</td>\n",
       "      <td>299</td>\n",
       "      <td>0</td>\n",
       "      <td>1</td>\n",
       "      <td>173</td>\n",
       "      <td>1</td>\n",
       "      <td>1.6</td>\n",
       "      <td>2</td>\n",
       "      <td>0</td>\n",
       "      <td>3</td>\n",
       "      <td>0</td>\n",
       "    </tr>\n",
       "    <tr>\n",
       "      <th>968</th>\n",
       "      <td>53</td>\n",
       "      <td>1</td>\n",
       "      <td>0</td>\n",
       "      <td>140</td>\n",
       "      <td>203</td>\n",
       "      <td>1</td>\n",
       "      <td>0</td>\n",
       "      <td>155</td>\n",
       "      <td>1</td>\n",
       "      <td>3.1</td>\n",
       "      <td>0</td>\n",
       "      <td>0</td>\n",
       "      <td>3</td>\n",
       "      <td>0</td>\n",
       "    </tr>\n",
       "    <tr>\n",
       "      <th>655</th>\n",
       "      <td>41</td>\n",
       "      <td>1</td>\n",
       "      <td>1</td>\n",
       "      <td>110</td>\n",
       "      <td>235</td>\n",
       "      <td>0</td>\n",
       "      <td>1</td>\n",
       "      <td>153</td>\n",
       "      <td>0</td>\n",
       "      <td>0.0</td>\n",
       "      <td>2</td>\n",
       "      <td>0</td>\n",
       "      <td>2</td>\n",
       "      <td>1</td>\n",
       "    </tr>\n",
       "    <tr>\n",
       "      <th>512</th>\n",
       "      <td>44</td>\n",
       "      <td>1</td>\n",
       "      <td>0</td>\n",
       "      <td>112</td>\n",
       "      <td>290</td>\n",
       "      <td>0</td>\n",
       "      <td>0</td>\n",
       "      <td>153</td>\n",
       "      <td>0</td>\n",
       "      <td>0.0</td>\n",
       "      <td>2</td>\n",
       "      <td>1</td>\n",
       "      <td>2</td>\n",
       "      <td>0</td>\n",
       "    </tr>\n",
       "    <tr>\n",
       "      <th>49</th>\n",
       "      <td>60</td>\n",
       "      <td>1</td>\n",
       "      <td>0</td>\n",
       "      <td>117</td>\n",
       "      <td>230</td>\n",
       "      <td>1</td>\n",
       "      <td>1</td>\n",
       "      <td>160</td>\n",
       "      <td>1</td>\n",
       "      <td>1.4</td>\n",
       "      <td>2</td>\n",
       "      <td>2</td>\n",
       "      <td>3</td>\n",
       "      <td>0</td>\n",
       "    </tr>\n",
       "  </tbody>\n",
       "</table>\n",
       "</div>"
      ],
      "text/plain": [
       "     age  sex  cp  trestbps  chol  fbs  restecg  thalach  exang  oldpeak  \\\n",
       "894   51    1   0       140   299    0        1      173      1      1.6   \n",
       "968   53    1   0       140   203    1        0      155      1      3.1   \n",
       "655   41    1   1       110   235    0        1      153      0      0.0   \n",
       "512   44    1   0       112   290    0        0      153      0      0.0   \n",
       "49    60    1   0       117   230    1        1      160      1      1.4   \n",
       "\n",
       "     slope  ca  thal  target  \n",
       "894      2   0     3       0  \n",
       "968      0   0     3       0  \n",
       "655      2   0     2       1  \n",
       "512      2   1     2       0  \n",
       "49       2   2     3       0  "
      ]
     },
     "execution_count": 27,
     "metadata": {},
     "output_type": "execute_result"
    }
   ],
   "source": [
    "df.sample(5)"
   ]
  },
  {
   "cell_type": "markdown",
   "id": "b68167ab",
   "metadata": {},
   "source": [
    "# preprocessing "
   ]
  },
  {
   "cell_type": "markdown",
   "id": "5025f8ae",
   "metadata": {},
   "source": [
    "removing faulty data according to  <a href =\"https://www.kaggle.com/johnsmith88/heart-disease-dataset/discussion/307455\">this discussion</a>"
   ]
  },
  {
   "cell_type": "code",
   "execution_count": 28,
   "id": "31ab1519",
   "metadata": {},
   "outputs": [],
   "source": [
    "df=df[df['ca']<4]\n",
    "df.drop(df[df['thal']==0].index, inplace = True)\n"
   ]
  },
  {
   "cell_type": "markdown",
   "id": "305465f5",
   "metadata": {},
   "source": [
    "# Exploratory Data Analysis "
   ]
  },
  {
   "cell_type": "code",
   "execution_count": 29,
   "id": "137da083",
   "metadata": {},
   "outputs": [
    {
     "name": "stdout",
     "output_type": "stream",
     "text": [
      "sex:  [1 0]\n",
      "cp:  [0 1 2 3]\n",
      "fbs:  [0 1]\n",
      "restcg:  [1 0]\n",
      "exang:  [0 1]\n",
      "slope:  [2 0 1]\n",
      "ca:  [2 0 1 3]\n",
      "thal:  [3 2 1]\n"
     ]
    }
   ],
   "source": [
    "print(\"sex: \",df.sex.unique())\n",
    "print(\"cp: \",df.cp.unique())\n",
    "print(\"fbs: \",df.fbs.unique())\n",
    "print(\"restcg: \",df.sex.unique())\n",
    "print(\"exang: \",df.exang.unique())\n",
    "print(\"slope: \",df.slope.unique())\n",
    "print(\"ca: \",df.ca.unique())\n",
    "print(\"thal: \",df.thal.unique())\n",
    "\n"
   ]
  },
  {
   "cell_type": "code",
   "execution_count": 30,
   "id": "f4ba2f30",
   "metadata": {},
   "outputs": [
    {
     "name": "stdout",
     "output_type": "stream",
     "text": [
      "The average age in the data set is 54.607 ,The oldest is 77 years, whereas the youngest is 29 years old \n",
      "The average registered cholestrol level is 246.996, Maximum level is 564 and the minimum level is 126 \n",
      "Average Resting blood pressure is 131.592,maximum is 200 and minimum is 94 \n",
      "The average maximum heart rate acheived  is 148.977  bpm. The Maximum is 202 and the minumum is 71\n",
      "The average value of st_dpression is 1.09 the Maximum is 6.2 and the minimum is 0.0\n",
      "\n"
     ]
    }
   ],
   "source": [
    "info='''The average age in the data set is {avgAge} ,The oldest is {oldestAge} years, whereas the youngest is {youngestAge} years old \n",
    "The average registered cholestrol level is {avgcholestrol}, Maximum level is {maxcholestrol} and the minimum level is {mincholestrol} \n",
    "Average Resting blood pressure is {avgBPressure},maximum is {maxBPressure} and minimum is {minBPressure} \n",
    "The average maximum heart rate acheived  is {avgHR}  bpm. The Maximum is {maxHR} and the minumum is {minHR}\n",
    "The average value of st_dpression is {avgst_dpression} the Maximum is {maxst_dpression} and the minimum is {minst_dpression}\n",
    "'''.format(avgAge=df.age.mean(),oldestAge=df.age.max(),youngestAge=df.age.min(),avgBPressure=df.trestbps.mean(),\n",
    "          maxBPressure=df.trestbps.max(),minBPressure=df.trestbps.min(),avgcholestrol=df.chol.mean(),\n",
    "          maxcholestrol=df.chol.max(),mincholestrol=df.chol.min(),avgHR=df.thalach.mean(),maxHR=df.thalach.max(),\n",
    "          minHR=df.thalach.min(),avgst_dpression=round(df.oldpeak.mean(),2),maxst_dpression=df.oldpeak.max(),minst_dpression=df.oldpeak.min())\n",
    "print(info)"
   ]
  },
  {
   "cell_type": "code",
   "execution_count": 31,
   "id": "f55693cf",
   "metadata": {},
   "outputs": [
    {
     "data": {
      "text/plain": [
       "<AxesSubplot:xlabel='oldpeak'>"
      ]
     },
     "execution_count": 31,
     "metadata": {},
     "output_type": "execute_result"
    },
    {
     "data": {
      "image/png": "[encoded data removed]",
      "text/plain": [
       "<Figure size 1080x648 with 4 Axes>"
      ]
     },
     "metadata": {},
     "output_type": "display_data"
    }
   ],
   "source": [
    "fig, axes = plt.subplots(2, 2,figsize=(15,9))\n",
    "sns.rugplot(df.trestbps,ax=axes[0,0])\n",
    "sns.rugplot(df.chol,ax=axes[0,1])\n",
    "sns.rugplot(df.thalach,ax=axes[1,0])\n",
    "sns.rugplot(df.oldpeak,ax=axes[1,1])\n",
    "\n"
   ]
  },
  {
   "cell_type": "code",
   "execution_count": null,
   "id": "0979c793",
   "metadata": {},
   "outputs": [],
   "source": []
  },
  {
   "cell_type": "code",
   "execution_count": 32,
   "id": "915b34ee",
   "metadata": {},
   "outputs": [
    {
     "data": {
      "text/plain": [
       "<AxesSubplot:xlabel='age', ylabel='Count'>"
      ]
     },
     "execution_count": 32,
     "metadata": {},
     "output_type": "execute_result"
    },
    {
     "data": {
      "image/png": "[encoded data removed]",
      "text/plain": [
       "<Figure size 432x288 with 1 Axes>"
      ]
     },
     "metadata": {},
     "output_type": "display_data"
    }
   ],
   "source": [
    "sns.histplot(data=df,x='age',bins=25,hue='target')"
   ]
  },
  {
   "cell_type": "code",
   "execution_count": null,
   "id": "1e606fb6",
   "metadata": {},
   "outputs": [],
   "source": []
  },
  {
   "cell_type": "code",
   "execution_count": 33,
   "id": "4c9a751c",
   "metadata": {},
   "outputs": [
    {
     "data": {
      "text/plain": [
       "1    0.508\n",
       "0    0.492\n",
       "Name: target, dtype: float64"
      ]
     },
     "execution_count": 33,
     "metadata": {},
     "output_type": "execute_result"
    }
   ],
   "source": [
    "df.target.value_counts()/df.shape[0]#data looks balanced"
   ]
  },
  {
   "cell_type": "code",
   "execution_count": 34,
   "id": "87d29041",
   "metadata": {},
   "outputs": [
    {
     "data": {
      "text/plain": [
       "<AxesSubplot:xlabel='sex', ylabel='target'>"
      ]
     },
     "execution_count": 34,
     "metadata": {},
     "output_type": "execute_result"
    },
    {
     "data": {
      "image/png": "[encoded data removed]",
      "text/plain": [
       "<Figure size 432x288 with 1 Axes>"
      ]
     },
     "metadata": {},
     "output_type": "display_data"
    }
   ],
   "source": [
    "sns.barplot(data=df,x='sex',y='target')"
   ]
  },
  {
   "cell_type": "code",
   "execution_count": null,
   "id": "f4f74939",
   "metadata": {},
   "outputs": [],
   "source": []
  },
  {
   "cell_type": "code",
   "execution_count": 35,
   "id": "8b43af07",
   "metadata": {},
   "outputs": [],
   "source": [
    "from sklearn.model_selection import train_test_split\n",
    "from sklearn.metrics import confusion_matrix, classification_report, accuracy_score"
   ]
  },
  {
   "cell_type": "code",
   "execution_count": null,
   "id": "cd0f009d",
   "metadata": {},
   "outputs": [],
   "source": []
  },
  {
   "cell_type": "code",
   "execution_count": 36,
   "id": "913fecf3",
   "metadata": {},
   "outputs": [],
   "source": [
    "x=df.iloc[:,:-1] \n",
    "y=df['target']"
   ]
  },
  {
   "cell_type": "code",
   "execution_count": 37,
   "id": "ecdfa9ff",
   "metadata": {},
   "outputs": [],
   "source": [
    "X_train, X_test, y_train, y_test = train_test_split(x, y, test_size=0.3)\n",
    "X_val, X_test, y_val, y_test = train_test_split(X_test,y_test ,test_size=0.5)\n"
   ]
  },
  {
   "cell_type": "code",
   "execution_count": 38,
   "id": "5903af0b",
   "metadata": {},
   "outputs": [
    {
     "data": {
      "text/plain": [
       "GridSearchCV(estimator=LogisticRegression(),\n",
       "             param_grid={'C': [0.15, 0.2, 0.25, 0.3], 'max_iter': [1000]},\n",
       "             scoring='recall')"
      ]
     },
     "execution_count": 38,
     "metadata": {},
     "output_type": "execute_result"
    }
   ],
   "source": [
    "#logistic\n",
    "from sklearn.model_selection import GridSearchCV\n",
    "from sklearn.linear_model import LogisticRegression\n",
    "\n",
    "lr= LogisticRegression()\n",
    "\n",
    "parameters = {'max_iter':[1000], 'C':[.15,.2,.25,.30]}\n",
    "\n",
    "clf = GridSearchCV(lr, parameters,scoring=\"recall\")\n",
    "\n",
    "clf.fit(X_train,y_train)"
   ]
  },
  {
   "cell_type": "code",
   "execution_count": 39,
   "id": "35b84056",
   "metadata": {},
   "outputs": [
    {
     "data": {
      "text/plain": [
       "LogisticRegression(C=0.2, max_iter=1000)"
      ]
     },
     "execution_count": 39,
     "metadata": {},
     "output_type": "execute_result"
    }
   ],
   "source": [
    "bst_logst=clf.best_estimator_\n",
    "bst_logst\n"
   ]
  },
  {
   "cell_type": "code",
   "execution_count": 40,
   "id": "abb27feb",
   "metadata": {},
   "outputs": [],
   "source": [
    "y_predict=bst_logst.predict(X_test)\n"
   ]
  },
  {
   "cell_type": "code",
   "execution_count": 41,
   "id": "56046f93",
   "metadata": {},
   "outputs": [
    {
     "name": "stdout",
     "output_type": "stream",
     "text": [
      "[2.44682407]\n",
      "[[ 0.00470239 -1.21424064  0.7045025  -0.01848993 -0.0041212   0.07833423\n",
      "   0.21719143  0.02300878 -0.60745464 -0.47839907  0.52851782 -1.15733375\n",
      "  -0.86936887]]\n"
     ]
    }
   ],
   "source": [
    "print (bst_logst.intercept_)\n",
    "print (bst_logst.coef_)"
   ]
  },
  {
   "cell_type": "code",
   "execution_count": 42,
   "id": "1955c12f",
   "metadata": {},
   "outputs": [
    {
     "name": "stdout",
     "output_type": "stream",
     "text": [
      "              precision    recall  f1-score   support\n",
      "\n",
      "           0       0.92      0.81      0.86        73\n",
      "           1       0.84      0.94      0.88        77\n",
      "\n",
      "    accuracy                           0.87       150\n",
      "   macro avg       0.88      0.87      0.87       150\n",
      "weighted avg       0.88      0.87      0.87       150\n",
      "\n",
      "[[59 14]\n",
      " [ 5 72]]\n"
     ]
    }
   ],
   "source": [
    "\n",
    "print(classification_report(y_test, y_predict))\n",
    "print(confusion_matrix(y_test, y_predict))\n"
   ]
  },
  {
   "cell_type": "code",
   "execution_count": null,
   "id": "cbafe9ce",
   "metadata": {},
   "outputs": [],
   "source": []
  },
  {
   "cell_type": "code",
   "execution_count": 43,
   "id": "b70aed89",
   "metadata": {},
   "outputs": [],
   "source": [
    "#decision tree\n",
    "from sklearn.tree import DecisionTreeClassifier\n",
    "dt=DecisionTreeClassifier(max_depth=10,criterion='entropy')\n",
    "dt.fit(X_train,y_train)\n",
    "y_predict_dt=dt.predict(X_test)"
   ]
  },
  {
   "cell_type": "code",
   "execution_count": 44,
   "id": "a7f90fec",
   "metadata": {},
   "outputs": [
    {
     "name": "stdout",
     "output_type": "stream",
     "text": [
      "              precision    recall  f1-score   support\n",
      "\n",
      "           0       0.97      1.00      0.99        73\n",
      "           1       1.00      0.97      0.99        77\n",
      "\n",
      "    accuracy                           0.99       150\n",
      "   macro avg       0.99      0.99      0.99       150\n",
      "weighted avg       0.99      0.99      0.99       150\n",
      "\n",
      "[[73  0]\n",
      " [ 2 75]]\n"
     ]
    }
   ],
   "source": [
    "print(classification_report(y_test, y_predict_dt))\n",
    "print(confusion_matrix(y_test, y_predict_dt))\n"
   ]
  },
  {
   "cell_type": "code",
   "execution_count": 51,
   "id": "194e74d0",
   "metadata": {},
   "outputs": [
    {
     "data": {
      "text/plain": [
       "<AxesSubplot:>"
      ]
     },
     "execution_count": 51,
     "metadata": {},
     "output_type": "execute_result"
    },
    {
     "data": {
      "image/png": "[encoded data removed]",
      "text/plain": [
       "<Figure size 720x432 with 1 Axes>"
      ]
     },
     "metadata": {},
     "output_type": "display_data"
    }
   ],
   "source": [
    "feature_importance = pd.Series(dt.feature_importances_, index=X_train.columns)\n",
    "feature_importance.plot(kind = 'barh', figsize=(10,6))"
   ]
  },
  {
   "cell_type": "code",
   "execution_count": 45,
   "id": "0548ff48",
   "metadata": {},
   "outputs": [],
   "source": [
    "from sklearn.ensemble import RandomForestClassifier \n",
    "clf_3 = RandomForestClassifier()\n",
    "clf_3.fit(X_train, y_train)\n",
    "y_pred_rf=clf_3.predict(X_test)"
   ]
  },
  {
   "cell_type": "code",
   "execution_count": 46,
   "id": "8e6eb87f",
   "metadata": {
    "scrolled": true
   },
   "outputs": [
    {
     "name": "stdout",
     "output_type": "stream",
     "text": [
      "              precision    recall  f1-score   support\n",
      "\n",
      "           0       0.99      1.00      0.99        73\n",
      "           1       1.00      0.99      0.99        77\n",
      "\n",
      "    accuracy                           0.99       150\n",
      "   macro avg       0.99      0.99      0.99       150\n",
      "weighted avg       0.99      0.99      0.99       150\n",
      "\n"
     ]
    }
   ],
   "source": [
    "print(classification_report(y_test, y_pred_rf))\n"
   ]
  },
  {
   "cell_type": "code",
   "execution_count": 50,
   "id": "435edffc",
   "metadata": {},
   "outputs": [
    {
     "data": {
      "text/plain": [
       "<AxesSubplot:>"
      ]
     },
     "execution_count": 50,
     "metadata": {},
     "output_type": "execute_result"
    },
    {
     "data": {
      "image/png": "[encoded data removed]",
      "text/plain": [
       "<Figure size 720x432 with 1 Axes>"
      ]
     },
     "metadata": {},
     "output_type": "display_data"
    }
   ],
   "source": [
    "feature_importance = pd.Series(clf_3.feature_importances_, index=X_train.columns)\n",
    "feature_importance.plot(kind = 'barh', figsize=(10,6))"
   ]
  },
  {
   "cell_type": "code",
   "execution_count": null,
   "id": "8a1c86ca",
   "metadata": {},
   "outputs": [],
   "source": []
  }
 ],
 "metadata": {
  "kernelspec": {
   "display_name": "Python 3",
   "language": "python",
   "name": "python3"
  },
  "language_info": {
   "codemirror_mode": {
    "name": "ipython",
    "version": 3
   },
   "file_extension": ".py",
   "mimetype": "text/x-python",
   "name": "python",
   "nbconvert_exporter": "python",
   "pygments_lexer": "ipython3",
   "version": "3.8.8"
  }
 },
 "nbformat": 4,
 "nbformat_minor": 5
}
